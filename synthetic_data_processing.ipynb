{
 "cells": [
  {
   "cell_type": "code",
   "execution_count": 1,
   "outputs": [],
   "source": [
    "import pandas as pd\n",
    "import numpy as np\n",
    "import matplotlib.pyplot as plt\n",
    "from sklearn.preprocessing import StandardScaler"
   ],
   "metadata": {
    "collapsed": false,
    "ExecuteTime": {
     "end_time": "2024-02-04T11:03:57.495574Z",
     "start_time": "2024-02-04T11:03:55.382148Z"
    }
   }
  },
  {
   "cell_type": "code",
   "execution_count": 2,
   "outputs": [],
   "source": [
    "# Loading the dataset from the provided URL\n",
    "url = \"https://github.com/raccamateo/NEC_BP_LR/raw/27108ebc3b574afd3f4bd7ea8b5d025907332499/A1-synthetic.txt\"\n",
    "synthetic_data = pd.read_csv(url, sep='\\t')"
   ],
   "metadata": {
    "collapsed": false,
    "ExecuteTime": {
     "end_time": "2024-02-04T11:03:58.570420Z",
     "start_time": "2024-02-04T11:03:57.497474Z"
    }
   }
  },
  {
   "cell_type": "code",
   "execution_count": 3,
   "outputs": [
    {
     "name": "stdout",
     "output_type": "stream",
     "text": [
      "First few rows of the dataset:\n",
      "         #v1         v2        v3        v4          v5        v6         v7  \\\n",
      "0  37.344110  10.542156  0.969185  3.568534   96.798733  3.429026  75.810196   \n",
      "1   4.089849  11.894301  0.467775  1.279044  100.149383  3.190073  76.423095   \n",
      "2 -32.333439  10.968631  0.238486  1.410745  100.642075  3.093934  78.758727   \n",
      "3 -45.632977  11.509606  0.924938  3.404069  105.963016  2.884269  83.027750   \n",
      "4 -41.543394  10.117186  0.315180  1.020120   97.371423  2.815820  77.194463   \n",
      "\n",
      "   v8         v9          z  \n",
      "0   0  20.002459  11.805369  \n",
      "1   0  12.702628   5.125025  \n",
      "2   1  10.723848   3.218553  \n",
      "3   0  19.946593  12.955092  \n",
      "4   0  11.105024   1.919094  \n"
     ]
    }
   ],
   "source": [
    "# Display the first few rows of the dataset\n",
    "print(\"First few rows of the dataset:\")\n",
    "print(synthetic_data.head())"
   ],
   "metadata": {
    "collapsed": false,
    "ExecuteTime": {
     "end_time": "2024-02-04T11:03:58.579290Z",
     "start_time": "2024-02-04T11:03:58.571868Z"
    }
   }
  },
  {
   "cell_type": "code",
   "execution_count": 4,
   "outputs": [
    {
     "name": "stdout",
     "output_type": "stream",
     "text": [
      "Missing values in each column:\n",
      "#v1    0\n",
      "v2     0\n",
      "v3     0\n",
      "v4     0\n",
      "v5     0\n",
      "v6     0\n",
      "v7     0\n",
      "v8     0\n",
      "v9     0\n",
      "z      0\n",
      "dtype: int64\n"
     ]
    }
   ],
   "source": [
    "# Checking for Missing Values\n",
    "missing_values = synthetic_data.isnull().sum()\n",
    "print(\"Missing values in each column:\")\n",
    "print(missing_values)"
   ],
   "metadata": {
    "collapsed": false,
    "ExecuteTime": {
     "end_time": "2024-02-04T11:03:58.585569Z",
     "start_time": "2024-02-04T11:03:58.581833Z"
    }
   }
  },
  {
   "cell_type": "code",
   "execution_count": 5,
   "outputs": [
    {
     "data": {
      "text/plain": "<Figure size 1080x720 with 1 Axes>",
      "image/png": "[encoded data removed]"
     },
     "metadata": {
      "needs_background": "light"
     },
     "output_type": "display_data"
    }
   ],
   "source": [
    "# Looking for Outliers using box plots on the original data (before normalization)\n",
    "plt.figure(figsize=(15, 10))\n",
    "synthetic_data.boxplot()\n",
    "plt.title(\"Box plot for each feature in the original dataset\")\n",
    "plt.show()"
   ],
   "metadata": {
    "collapsed": false,
    "ExecuteTime": {
     "end_time": "2024-02-04T11:03:58.739204Z",
     "start_time": "2024-02-04T11:03:58.585292Z"
    }
   }
  },
  {
   "cell_type": "code",
   "execution_count": 6,
   "outputs": [],
   "source": [
    "def standardize_features(df, target_column):\n",
    "    features = df.drop(target_column, axis=1)\n",
    "    scaler = StandardScaler()\n",
    "    scaled_features = scaler.fit_transform(features)\n",
    "    df_scaled = pd.DataFrame(scaled_features, columns=features.columns)\n",
    "    df_scaled[target_column] = df[target_column].values  # Add the target column back unchanged\n",
    "    return df_scaled"
   ],
   "metadata": {
    "collapsed": false,
    "ExecuteTime": {
     "end_time": "2024-02-04T11:03:58.741887Z",
     "start_time": "2024-02-04T11:03:58.737368Z"
    }
   }
  },
  {
   "cell_type": "code",
   "execution_count": 7,
   "outputs": [],
   "source": [
    "# Standardize features except for the target column\n",
    "standardized_synthetic_data = standardize_features(synthetic_data, target_column=synthetic_data.columns[-1])"
   ],
   "metadata": {
    "collapsed": false,
    "ExecuteTime": {
     "end_time": "2024-02-04T11:03:58.746653Z",
     "start_time": "2024-02-04T11:03:58.743095Z"
    }
   }
  },
  {
   "cell_type": "code",
   "execution_count": 8,
   "outputs": [],
   "source": [
    "# Shuffle the dataset\n",
    "standardized_synthetic_data = standardized_synthetic_data.sample(frac=1, random_state=0).reset_index(drop=True)"
   ],
   "metadata": {
    "collapsed": false,
    "ExecuteTime": {
     "end_time": "2024-02-04T11:03:58.750613Z",
     "start_time": "2024-02-04T11:03:58.748584Z"
    }
   }
  },
  {
   "cell_type": "code",
   "execution_count": 9,
   "outputs": [],
   "source": [
    "standardized_synthetic_data.to_csv('standardized_synthetic_data.csv', index=False)"
   ],
   "metadata": {
    "collapsed": false,
    "ExecuteTime": {
     "end_time": "2024-02-04T11:03:58.815414Z",
     "start_time": "2024-02-04T11:03:58.751885Z"
    }
   }
  },
  {
   "cell_type": "code",
   "execution_count": 10,
   "outputs": [],
   "source": [
    "# Calculate the number of samples for training (80%) and testing (20%)\n",
    "num_samples = len(standardized_synthetic_data)\n",
    "train_size = int(num_samples * 0.8)\n",
    "test_size = num_samples - train_size"
   ],
   "metadata": {
    "collapsed": false,
    "ExecuteTime": {
     "end_time": "2024-02-04T11:03:58.815585Z",
     "start_time": "2024-02-04T11:03:58.768496Z"
    }
   }
  },
  {
   "cell_type": "code",
   "execution_count": 11,
   "outputs": [],
   "source": [
    "# Split the dataset\n",
    "train_data_synthetic = standardized_synthetic_data.iloc[:train_size]\n",
    "test_data_synthetic = standardized_synthetic_data.iloc[train_size:]"
   ],
   "metadata": {
    "collapsed": false,
    "ExecuteTime": {
     "end_time": "2024-02-04T11:03:59.077474Z",
     "start_time": "2024-02-04T11:03:59.075557Z"
    }
   }
  },
  {
   "cell_type": "code",
   "execution_count": 12,
   "outputs": [],
   "source": [
    "# Separate the features and the target variable for training and test data\n",
    "X_train_synthetic = train_data_synthetic.iloc[:, :-1]\n",
    "y_train_synthetic = train_data_synthetic.iloc[:, -1]\n",
    "X_test_synthetic = test_data_synthetic.iloc[:, :-1]\n",
    "y_test_synthetic = test_data_synthetic.iloc[:, -1]"
   ],
   "metadata": {
    "collapsed": false,
    "ExecuteTime": {
     "end_time": "2024-02-04T11:03:59.549680Z",
     "start_time": "2024-02-04T11:03:59.548333Z"
    }
   }
  },
  {
   "cell_type": "code",
   "execution_count": 13,
   "outputs": [
    {
     "name": "stdout",
     "output_type": "stream",
     "text": [
      "Training features:\n",
      "        #v1        v2        v3        v4        v5        v6        v7  \\\n",
      "0  0.338497 -0.083967  0.464262  1.136505  1.214678  1.114884  1.211061   \n",
      "1  1.510989 -1.694024  1.000160  0.948963  1.169016  1.665758  1.531970   \n",
      "2  0.019873 -0.197036 -0.813867 -1.214567 -0.915665  1.442266 -0.845320   \n",
      "3  1.172530 -1.470072 -0.623153 -0.852961  0.219144 -0.781070  0.565925   \n",
      "4  1.181835  0.488107  0.436952  1.369883  0.151680  0.261784  0.042053   \n",
      "\n",
      "         v8        v9  \n",
      "0 -0.674985  0.233885  \n",
      "1 -0.674985  0.786355  \n",
      "2 -0.674985 -0.894396  \n",
      "3 -0.674985 -0.808633  \n",
      "4 -0.674985  0.242024  \n",
      "\n",
      "Training target:\n",
      "0    7.984439\n",
      "1    7.678250\n",
      "2    1.310445\n",
      "3    2.819382\n",
      "4    8.185281\n",
      "Name: z, dtype: float64\n",
      "\n",
      "Test features:\n",
      "          #v1        v2        v3        v4        v5        v6        v7  \\\n",
      "800  0.381343 -1.187440  0.973463  1.361860 -0.514809 -1.220263 -0.226139   \n",
      "801  1.019758  0.658219 -1.609342 -1.032355  0.315285  0.780422  0.155862   \n",
      "802  0.148707 -0.127271  0.264642  1.014819 -0.504427  0.160302 -0.470481   \n",
      "803  1.133866  1.164416 -1.401960 -0.888658 -2.359005 -2.265193 -2.572321   \n",
      "804  1.469658  0.796023 -1.241062 -0.999719 -1.032598  0.105243 -1.202270   \n",
      "\n",
      "           v8        v9  \n",
      "800 -0.674985  0.805871  \n",
      "801 -0.674985 -1.147991  \n",
      "802 -0.674985 -0.002915  \n",
      "803 -0.674985 -1.111775  \n",
      "804 -0.674985 -1.068518  \n",
      "\n",
      "Test target:\n",
      "800    8.149293\n",
      "801    1.402519\n",
      "802    6.509051\n",
      "803    2.204951\n",
      "804    2.548768\n",
      "Name: z, dtype: float64\n"
     ]
    }
   ],
   "source": [
    "# Displaying the first few rows of the training and test sets\n",
    "print(\"Training features:\")\n",
    "print(X_train_synthetic.head())\n",
    "print(\"\\nTraining target:\")\n",
    "print(y_train_synthetic.head())\n",
    "print(\"\\nTest features:\")\n",
    "print(X_test_synthetic.head())\n",
    "print(\"\\nTest target:\")\n",
    "print(y_test_synthetic.head())"
   ],
   "metadata": {
    "collapsed": false,
    "ExecuteTime": {
     "end_time": "2024-02-04T11:03:59.998867Z",
     "start_time": "2024-02-04T11:03:59.995795Z"
    }
   }
  },
  {
   "cell_type": "code",
   "execution_count": null,
   "outputs": [],
   "source": [],
   "metadata": {
    "collapsed": false
   }
  }
 ],
 "metadata": {
  "kernelspec": {
   "display_name": "Python 3",
   "language": "python",
   "name": "python3"
  },
  "language_info": {
   "codemirror_mode": {
    "name": "ipython",
    "version": 3
   },
   "file_extension": ".py",
   "mimetype": "text/x-python",
   "name": "python",
   "nbconvert_exporter": "python",
   "pygments_lexer": "ipython3",
   "version": "3.9.6"
  }
 },
 "nbformat": 4,
 "nbformat_minor": 2
}
