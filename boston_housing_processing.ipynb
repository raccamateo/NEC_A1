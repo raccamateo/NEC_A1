{
 "cells": [
  {
   "cell_type": "code",
   "execution_count": 6,
   "outputs": [],
   "source": [
    "import pandas as pd\n",
    "import numpy as np\n",
    "import matplotlib.pyplot as plt\n",
    "from sklearn.preprocessing import StandardScaler"
   ],
   "metadata": {
    "collapsed": false,
    "ExecuteTime": {
     "end_time": "2024-02-04T11:27:32.141683Z",
     "start_time": "2024-02-04T11:27:32.136627Z"
    }
   }
  },
  {
   "cell_type": "code",
   "execution_count": 7,
   "outputs": [],
   "source": [
    "# Load the Boston Housing dataset\n",
    "boston_housing_url = \"https://github.com/raccamateo/NEC_A1/raw/main/Boston_Housing.xlsx\"\n",
    "boston_housing_data = pd.read_excel(boston_housing_url)"
   ],
   "metadata": {
    "collapsed": false,
    "ExecuteTime": {
     "end_time": "2024-02-04T11:27:34.062519Z",
     "start_time": "2024-02-04T11:27:32.515760Z"
    }
   }
  },
  {
   "cell_type": "code",
   "execution_count": 8,
   "outputs": [
    {
     "name": "stdout",
     "output_type": "stream",
     "text": [
      "First few rows of the dataset:\n",
      "      CRIM    ZN  INDUS  CHAS    NOX     RM   AGE     DIS  RAD  TAX  PTRATIO  \\\n",
      "0  0.00632  18.0   2.31     0  0.538  6.575  65.2  4.0900    1  296     15.3   \n",
      "1  0.02731   0.0   7.07     0  0.469  6.421  78.9  4.9671    2  242     17.8   \n",
      "2  0.02729   0.0   7.07     0  0.469  7.185  61.1  4.9671    2  242     17.8   \n",
      "3  0.03237   0.0   2.18     0  0.458  6.998  45.8  6.0622    3  222     18.7   \n",
      "4  0.06905   0.0   2.18     0  0.458  7.147  54.2  6.0622    3  222     18.7   \n",
      "\n",
      "        B  LSTAT  MEDV  \n",
      "0  396.90   4.98  24.0  \n",
      "1  396.90   9.14  21.6  \n",
      "2  392.83   4.03  34.7  \n",
      "3  394.63   2.94  33.4  \n",
      "4  396.90   5.33  36.2  \n"
     ]
    }
   ],
   "source": [
    "# Display the first few rows of the dataset\n",
    "print(\"First few rows of the dataset:\")\n",
    "print(boston_housing_data.head())"
   ],
   "metadata": {
    "collapsed": false,
    "ExecuteTime": {
     "end_time": "2024-02-04T11:27:34.070725Z",
     "start_time": "2024-02-04T11:27:34.067674Z"
    }
   }
  },
  {
   "cell_type": "code",
   "execution_count": 9,
   "outputs": [
    {
     "name": "stdout",
     "output_type": "stream",
     "text": [
      "Missing values in each column after filling with mean:\n",
      "CRIM       0\n",
      "ZN         0\n",
      "INDUS      0\n",
      "CHAS       0\n",
      "NOX        0\n",
      "RM         0\n",
      "AGE        0\n",
      "DIS        0\n",
      "RAD        0\n",
      "TAX        0\n",
      "PTRATIO    0\n",
      "B          0\n",
      "LSTAT      0\n",
      "MEDV       0\n",
      "dtype: int64\n"
     ]
    }
   ],
   "source": [
    "# Checking for Missing Values and filling them with the mean of the column\n",
    "boston_housing_data.fillna(boston_housing_data.mean(), inplace=True)\n",
    "missing_values = boston_housing_data.isnull().sum()\n",
    "print(\"Missing values in each column after filling with mean:\")\n",
    "print(missing_values)"
   ],
   "metadata": {
    "collapsed": false,
    "ExecuteTime": {
     "end_time": "2024-02-04T11:27:34.078561Z",
     "start_time": "2024-02-04T11:27:34.070973Z"
    }
   }
  },
  {
   "cell_type": "code",
   "execution_count": 10,
   "outputs": [
    {
     "data": {
      "text/plain": "<Figure size 1080x720 with 1 Axes>",
      "image/png": "[encoded data removed]"
     },
     "metadata": {
      "needs_background": "light"
     },
     "output_type": "display_data"
    }
   ],
   "source": [
    "# Looking for Outliers using box plots on the original data (before normalization)\n",
    "plt.figure(figsize=(15, 10))\n",
    "boston_housing_data.boxplot()\n",
    "plt.title(\"Box plot for each feature in the original Boston Housing dataset\")\n",
    "plt.show()"
   ],
   "metadata": {
    "collapsed": false,
    "ExecuteTime": {
     "end_time": "2024-02-04T11:27:34.240298Z",
     "start_time": "2024-02-04T11:27:34.081005Z"
    }
   }
  },
  {
   "cell_type": "code",
   "execution_count": 11,
   "outputs": [],
   "source": [
    "# Identify and handle outliers using the IQR method\n",
    "Q1 = boston_housing_data.quantile(0.25)\n",
    "Q3 = boston_housing_data.quantile(0.75)\n",
    "IQR = Q3 - Q1"
   ],
   "metadata": {
    "collapsed": false,
    "ExecuteTime": {
     "end_time": "2024-02-04T11:27:34.244932Z",
     "start_time": "2024-02-04T11:27:34.238582Z"
    }
   }
  },
  {
   "cell_type": "code",
   "execution_count": 12,
   "outputs": [],
   "source": [
    "# Removing outliers based on the IQR method for each feature\n",
    "boston_housing_data = boston_housing_data[~((boston_housing_data < (Q1 - 1.5 * IQR)) | (boston_housing_data > (Q3 + 1.5 * IQR))).any(axis=1)]"
   ],
   "metadata": {
    "collapsed": false,
    "ExecuteTime": {
     "end_time": "2024-02-04T11:27:34.251669Z",
     "start_time": "2024-02-04T11:27:34.247015Z"
    }
   }
  },
  {
   "cell_type": "code",
   "execution_count": 14,
   "outputs": [],
   "source": [
    "# Standardize the features using Z-score normalization, excluding the target variable\n",
    "scaler = StandardScaler()\n",
    "features = boston_housing_data.drop(columns=['MEDV'])  # Assuming 'Target' is the column name for the target variable\n",
    "scaled_features = scaler.fit_transform(features)\n",
    "boston_housing_data_standardized = pd.DataFrame(scaled_features, columns=features.columns)\n",
    "boston_housing_data_standardized['MEDV'] = boston_housing_data['MEDV'].values  # Adding the target column back"
   ],
   "metadata": {
    "collapsed": false,
    "ExecuteTime": {
     "end_time": "2024-02-04T11:31:04.381260Z",
     "start_time": "2024-02-04T11:31:04.377332Z"
    }
   }
  },
  {
   "cell_type": "code",
   "execution_count": 15,
   "outputs": [],
   "source": [
    "# Shuffle the dataset\n",
    "boston_housing_data_standardized = boston_housing_data_standardized.sample(frac=1, random_state=0).reset_index(drop=True)"
   ],
   "metadata": {
    "collapsed": false,
    "ExecuteTime": {
     "end_time": "2024-02-04T11:31:05.099399Z",
     "start_time": "2024-02-04T11:31:05.096239Z"
    }
   }
  },
  {
   "cell_type": "code",
   "execution_count": 16,
   "outputs": [],
   "source": [
    "# Save the standardized dataset\n",
    "boston_housing_data_standardized.to_csv('standardized_boston_housing_data.csv', index=False)"
   ],
   "metadata": {
    "collapsed": false,
    "ExecuteTime": {
     "end_time": "2024-02-04T11:31:08.794173Z",
     "start_time": "2024-02-04T11:31:08.778669Z"
    }
   }
  },
  {
   "cell_type": "code",
   "execution_count": 17,
   "outputs": [
    {
     "name": "stdout",
     "output_type": "stream",
     "text": [
      "First few rows of the standardized dataset:\n",
      "       CRIM        ZN     INDUS  CHAS       NOX        RM       AGE       DIS  \\\n",
      "0 -0.434787 -0.454638 -0.332292   0.0 -0.145253 -0.776487  0.969543 -1.019686   \n",
      "1 -0.400088 -0.454638 -0.153903   0.0  0.525223 -0.347331 -0.027698 -0.907509   \n",
      "2 -0.495164 -0.454638 -1.145307   0.0 -0.465019  2.138491 -0.110177 -0.338186   \n",
      "3 -0.463479 -0.454638 -1.227398   0.0 -0.918880 -0.009634  0.133510 -0.292489   \n",
      "4 -0.414771  1.851904 -1.157936   0.0 -0.940541  1.512345 -1.268626  0.050384   \n",
      "\n",
      "        RAD       TAX   PTRATIO         B     LSTAT  MEDV  \n",
      "0 -0.298539  0.155393  1.200250  0.593077  1.238562  19.5  \n",
      "1 -0.150101  0.205362  0.227409  0.703770  0.175364  21.2  \n",
      "2 -0.743856 -0.658385 -0.573754  0.628175 -1.161970  28.7  \n",
      "3 -0.743856 -0.615554 -0.459302  0.247500 -0.117294  21.4  \n",
      "4 -0.298539 -1.043859 -2.233307  0.703770 -1.319412  35.1  \n"
     ]
    }
   ],
   "source": [
    "# Displaying the first few rows of the standardized dataset\n",
    "print(\"First few rows of the standardized dataset:\")\n",
    "print(boston_housing_data_standardized.head())"
   ],
   "metadata": {
    "collapsed": false,
    "ExecuteTime": {
     "end_time": "2024-02-04T11:31:09.405793Z",
     "start_time": "2024-02-04T11:31:09.401412Z"
    }
   }
  },
  {
   "cell_type": "code",
   "execution_count": null,
   "outputs": [],
   "source": [],
   "metadata": {
    "collapsed": false
   }
  }
 ],
 "metadata": {
  "kernelspec": {
   "display_name": "Python 3",
   "language": "python",
   "name": "python3"
  },
  "language_info": {
   "codemirror_mode": {
    "name": "ipython",
    "version": 3
   },
   "file_extension": ".py",
   "mimetype": "text/x-python",
   "name": "python",
   "nbconvert_exporter": "python",
   "pygments_lexer": "ipython3",
   "version": "3.9.6"
  }
 },
 "nbformat": 4,
 "nbformat_minor": 2
}
