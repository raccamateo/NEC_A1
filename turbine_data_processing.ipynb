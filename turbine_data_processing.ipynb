{
 "cells": [
  {
   "cell_type": "code",
   "execution_count": 10,
   "metadata": {
    "ExecuteTime": {
     "end_time": "2024-02-04T10:57:45.592102Z",
     "start_time": "2024-02-04T10:57:45.055665Z"
    }
   },
   "outputs": [],
   "source": [
    "import pandas as pd\n",
    "import numpy as np\n",
    "import matplotlib.pyplot as plt\n",
    "from sklearn.preprocessing import StandardScaler"
   ]
  },
  {
   "cell_type": "code",
   "execution_count": 11,
   "outputs": [
    {
     "name": "stdout",
     "output_type": "stream",
     "text": [
      "   height_over_sea_level   fall  net_fall  flow  \\\n",
      "0                  624.0  89.16    89.765   3.5   \n",
      "1                  628.0  93.16    93.765   3.5   \n",
      "2                  602.0  67.84    66.415   6.5   \n",
      "3                  599.0  64.84    63.415   6.5   \n",
      "4                  630.0  94.69    93.540   8.0   \n",
      "\n",
      "   power_of_hydroelectrical_turbine  \n",
      "0                           2512.85  \n",
      "1                           2583.79  \n",
      "2                           3748.77  \n",
      "3                           3520.65  \n",
      "4                           6673.84  \n"
     ]
    }
   ],
   "source": [
    "# The direct URL to the raw .txt file on GitHub\n",
    "url_turbine = \"https://raw.githubusercontent.com/raccamateo/NEC_BP_LR/c7a75405cbda61f7e6a5d289065d5ea9baf2af19/A1-turbine.txt\"\n",
    "\n",
    "# Read the .txt file assuming it's tab-delimited\n",
    "try:\n",
    "    turbine_data = pd.read_csv(url_turbine, sep='\\t', header=0)\n",
    "    print(turbine_data.head())\n",
    "except Exception as e:\n",
    "    print(f\"An error occurred while trying to read the file: {e}\")\n"
   ],
   "metadata": {
    "collapsed": false,
    "ExecuteTime": {
     "end_time": "2024-02-04T10:57:47.817885Z",
     "start_time": "2024-02-04T10:57:47.420330Z"
    }
   }
  },
  {
   "cell_type": "code",
   "execution_count": 12,
   "metadata": {
    "ExecuteTime": {
     "end_time": "2024-02-04T10:57:48.790541Z",
     "start_time": "2024-02-04T10:57:48.783677Z"
    }
   },
   "outputs": [
    {
     "name": "stdout",
     "output_type": "stream",
     "text": [
      "First few rows of the dataset:\n",
      "   height_over_sea_level   fall  net_fall  flow  \\\n",
      "0                  624.0  89.16    89.765   3.5   \n",
      "1                  628.0  93.16    93.765   3.5   \n",
      "2                  602.0  67.84    66.415   6.5   \n",
      "3                  599.0  64.84    63.415   6.5   \n",
      "4                  630.0  94.69    93.540   8.0   \n",
      "\n",
      "   power_of_hydroelectrical_turbine  \n",
      "0                           2512.85  \n",
      "1                           2583.79  \n",
      "2                           3748.77  \n",
      "3                           3520.65  \n",
      "4                           6673.84  \n"
     ]
    }
   ],
   "source": [
    "# Display the first few rows of the dataset\n",
    "print(\"First few rows of the dataset:\")\n",
    "print(turbine_data.head())"
   ]
  },
  {
   "cell_type": "code",
   "execution_count": 13,
   "metadata": {
    "ExecuteTime": {
     "end_time": "2024-02-04T10:57:49.681478Z",
     "start_time": "2024-02-04T10:57:49.677Z"
    }
   },
   "outputs": [
    {
     "name": "stdout",
     "output_type": "stream",
     "text": [
      "height_over_sea_level               float64\n",
      "fall                                float64\n",
      "net_fall                            float64\n",
      "flow                                float64\n",
      "power_of_hydroelectrical_turbine    float64\n",
      "dtype: object\n"
     ]
    }
   ],
   "source": [
    "print(turbine_data.dtypes)"
   ]
  },
  {
   "cell_type": "code",
   "execution_count": 14,
   "metadata": {
    "ExecuteTime": {
     "end_time": "2024-02-04T10:57:50.678615Z",
     "start_time": "2024-02-04T10:57:50.675314Z"
    }
   },
   "outputs": [],
   "source": [
    "turbine_data = turbine_data.apply(pd.to_numeric, errors='coerce')"
   ]
  },
  {
   "cell_type": "code",
   "execution_count": 15,
   "metadata": {
    "ExecuteTime": {
     "end_time": "2024-02-04T10:57:51.969983Z",
     "start_time": "2024-02-04T10:57:51.964151Z"
    }
   },
   "outputs": [
    {
     "name": "stdout",
     "output_type": "stream",
     "text": [
      "Missing values in each column:\n",
      "height_over_sea_level               0\n",
      "fall                                0\n",
      "net_fall                            0\n",
      "flow                                0\n",
      "power_of_hydroelectrical_turbine    0\n",
      "dtype: int64\n"
     ]
    }
   ],
   "source": [
    "# Checking for Missing Values\n",
    "missing_values_turbine = turbine_data.isnull().sum()\n",
    "print(\"Missing values in each column:\")\n",
    "print(missing_values_turbine)"
   ]
  },
  {
   "cell_type": "code",
   "execution_count": 16,
   "metadata": {
    "ExecuteTime": {
     "end_time": "2024-02-04T10:57:53.081573Z",
     "start_time": "2024-02-04T10:57:52.984654Z"
    }
   },
   "outputs": [
    {
     "data": {
      "text/plain": "<Figure size 1080x720 with 1 Axes>",
      "image/png": "[encoded data removed]"
     },
     "metadata": {
      "needs_background": "light"
     },
     "output_type": "display_data"
    }
   ],
   "source": [
    "# Looking for Outliers using box plots on the original data (before normalization)\n",
    "plt.figure(figsize=(15, 10))\n",
    "turbine_data.boxplot()\n",
    "plt.title(\"Box plot for each feature in the original A1-turbine dataset\")\n",
    "plt.show()"
   ]
  },
  {
   "cell_type": "code",
   "execution_count": 17,
   "metadata": {
    "ExecuteTime": {
     "end_time": "2024-02-04T10:57:54.355403Z",
     "start_time": "2024-02-04T10:57:54.351091Z"
    }
   },
   "outputs": [],
   "source": [
    "def standardize_features(df, target_column):\n",
    "    features = df.drop(target_column, axis=1)\n",
    "    scaler = StandardScaler()\n",
    "    scaled_features = scaler.fit_transform(features)\n",
    "    df_scaled = pd.DataFrame(scaled_features, columns=features.columns)\n",
    "    df_scaled[target_column] = df[target_column].values  # Add the target column back unchanged\n",
    "    return df_scaled"
   ]
  },
  {
   "cell_type": "code",
   "execution_count": 18,
   "metadata": {
    "ExecuteTime": {
     "end_time": "2024-02-04T10:57:56.571269Z",
     "start_time": "2024-02-04T10:57:56.567970Z"
    }
   },
   "outputs": [],
   "source": [
    "# Standardize features except for the target column\n",
    "standardized_turbine_data = standardize_features(turbine_data, target_column=turbine_data.columns[-1])"
   ]
  },
  {
   "cell_type": "code",
   "execution_count": 19,
   "metadata": {
    "ExecuteTime": {
     "end_time": "2024-02-04T10:57:58.653429Z",
     "start_time": "2024-02-04T10:57:58.645084Z"
    }
   },
   "outputs": [],
   "source": [
    "# Shuffle the standardized dataset\n",
    "standardized_turbine_data = standardized_turbine_data.sample(frac=1, random_state=0).reset_index(drop=True)\n",
    "\n",
    "standardized_turbine_data.to_csv('standardized_turbine_data.csv', index=False)"
   ]
  },
  {
   "cell_type": "code",
   "execution_count": 20,
   "metadata": {
    "ExecuteTime": {
     "end_time": "2024-02-04T10:57:59.869941Z",
     "start_time": "2024-02-04T10:57:59.862319Z"
    }
   },
   "outputs": [],
   "source": [
    "standardized_turbine_data.to_csv('standardized_turbine_data.csv', index=False)"
   ]
  },
  {
   "cell_type": "code",
   "execution_count": 22,
   "metadata": {
    "ExecuteTime": {
     "end_time": "2024-02-04T10:58:39.260054Z",
     "start_time": "2024-02-04T10:58:39.255309Z"
    }
   },
   "outputs": [],
   "source": [
    "# Calculate the number of samples for training (85%) and testing (15%)\n",
    "num_samples = len(standardized_turbine_data)\n",
    "train_size = int(num_samples * 0.85)\n",
    "test_size = num_samples - train_size"
   ]
  },
  {
   "cell_type": "code",
   "execution_count": 23,
   "metadata": {
    "ExecuteTime": {
     "end_time": "2024-02-04T10:58:40.361477Z",
     "start_time": "2024-02-04T10:58:40.358568Z"
    }
   },
   "outputs": [],
   "source": [
    "# Split the dataset\n",
    "train_data = standardized_turbine_data.iloc[:train_size]\n",
    "test_data = standardized_turbine_data.iloc[train_size:]"
   ]
  },
  {
   "cell_type": "code",
   "execution_count": 24,
   "metadata": {
    "ExecuteTime": {
     "end_time": "2024-02-04T10:58:41.121692Z",
     "start_time": "2024-02-04T10:58:41.118320Z"
    }
   },
   "outputs": [],
   "source": [
    "# Separate the features and the target variable for training data\n",
    "X_train = train_data.iloc[:, :-1]\n",
    "y_train = train_data.iloc[:, -1]\n",
    "\n",
    "# Separate the features and the target variable for test data\n",
    "X_test = test_data.iloc[:, :-1]\n",
    "y_test = test_data.iloc[:, -1]"
   ]
  },
  {
   "cell_type": "code",
   "execution_count": 25,
   "metadata": {
    "ExecuteTime": {
     "end_time": "2024-02-04T10:58:42.206491Z",
     "start_time": "2024-02-04T10:58:42.199135Z"
    }
   },
   "outputs": [
    {
     "name": "stdout",
     "output_type": "stream",
     "text": [
      "Training features:\n",
      "   height_over_sea_level      fall  net_fall      flow\n",
      "0              -1.342867 -1.303205 -1.240958 -1.359556\n",
      "1               1.455974  1.486262  1.542986 -1.078805\n",
      "2              -0.169160 -0.238288 -0.329858  1.728703\n",
      "3              -0.259445 -0.308165 -0.277859  0.324949\n",
      "4              -1.433153 -1.401964 -1.350833 -1.078805\n",
      "\n",
      "Training target:\n",
      "0    1717.89\n",
      "1    3056.77\n",
      "2    5414.45\n",
      "3    4260.53\n",
      "4    1978.39\n",
      "Name: power_of_hydroelectrical_turbine, dtype: float64\n",
      "\n",
      "Test features:\n",
      "     height_over_sea_level      fall  net_fall      flow\n",
      "383               0.733692  0.844330  0.854347 -1.640307\n",
      "384               1.546259  1.564523  1.576446 -0.236553\n",
      "385              -1.884579 -1.896689 -1.930501  0.605700\n",
      "386               0.914263  0.917002  0.965578 -0.517304\n",
      "387               1.185118  1.201166  1.254960 -0.798055\n",
      "\n",
      "Test target:\n",
      "383    1996.27\n",
      "384    4509.67\n",
      "385    2915.86\n",
      "386    3776.31\n",
      "387    3432.48\n",
      "Name: power_of_hydroelectrical_turbine, dtype: float64\n"
     ]
    }
   ],
   "source": [
    "# Displaying the first few rows of the training and test sets\n",
    "print(\"Training features:\")\n",
    "print(X_train.head())\n",
    "print(\"\\nTraining target:\")\n",
    "print(y_train.head())\n",
    "print(\"\\nTest features:\")\n",
    "print(X_test.head())\n",
    "print(\"\\nTest target:\")\n",
    "print(y_test.head())"
   ]
  },
  {
   "cell_type": "code",
   "execution_count": null,
   "outputs": [],
   "source": [],
   "metadata": {
    "collapsed": false
   }
  }
 ],
 "metadata": {
  "kernelspec": {
   "display_name": "Python 3",
   "language": "python",
   "name": "python3"
  },
  "language_info": {
   "codemirror_mode": {
    "name": "ipython",
    "version": 3
   },
   "file_extension": ".py",
   "mimetype": "text/x-python",
   "name": "python",
   "nbconvert_exporter": "python",
   "pygments_lexer": "ipython3",
   "version": "3.9.6"
  }
 },
 "nbformat": 4,
 "nbformat_minor": 2
}
